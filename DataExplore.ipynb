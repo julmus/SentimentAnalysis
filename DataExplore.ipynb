{
 "cells": [
  {
   "cell_type": "code",
   "execution_count": 1,
   "metadata": {},
   "outputs": [],
   "source": [
    "from Header import *\n",
    "%matplotlib inline"
   ]
  },
  {
   "cell_type": "markdown",
   "metadata": {},
   "source": [
    "# Data exploration"
   ]
  },
  {
   "cell_type": "code",
   "execution_count": 2,
   "metadata": {},
   "outputs": [],
   "source": [
    "df = pd.read_excel(\"../sentences_with_sentiment.xlsx\")"
   ]
  },
  {
   "cell_type": "code",
   "execution_count": 3,
   "metadata": {},
   "outputs": [],
   "source": [
    "df = df.drop_duplicates(subset=['Sentence','Positive', 'Negative', 'Neutral'])"
   ]
  },
  {
   "cell_type": "code",
   "execution_count": 4,
   "metadata": {},
   "outputs": [
    {
     "data": {
      "text/html": [
       "<div>\n",
       "<style scoped>\n",
       "    .dataframe tbody tr th:only-of-type {\n",
       "        vertical-align: middle;\n",
       "    }\n",
       "\n",
       "    .dataframe tbody tr th {\n",
       "        vertical-align: top;\n",
       "    }\n",
       "\n",
       "    .dataframe thead th {\n",
       "        text-align: right;\n",
       "    }\n",
       "</style>\n",
       "<table border=\"1\" class=\"dataframe\">\n",
       "  <thead>\n",
       "    <tr style=\"text-align: right;\">\n",
       "      <th></th>\n",
       "      <th>ID</th>\n",
       "      <th>Sentence</th>\n",
       "      <th>Positive</th>\n",
       "      <th>Negative</th>\n",
       "      <th>Neutral</th>\n",
       "    </tr>\n",
       "  </thead>\n",
       "  <tbody>\n",
       "    <tr>\n",
       "      <th>0</th>\n",
       "      <td>1</td>\n",
       "      <td>The results in 2nd line treatment show an ORR ...</td>\n",
       "      <td>1</td>\n",
       "      <td>0</td>\n",
       "      <td>0</td>\n",
       "    </tr>\n",
       "    <tr>\n",
       "      <th>1</th>\n",
       "      <td>2</td>\n",
       "      <td>The long duration of response and high durable...</td>\n",
       "      <td>1</td>\n",
       "      <td>0</td>\n",
       "      <td>0</td>\n",
       "    </tr>\n",
       "    <tr>\n",
       "      <th>2</th>\n",
       "      <td>3</td>\n",
       "      <td>The median OS time in the updated results exce...</td>\n",
       "      <td>0</td>\n",
       "      <td>0</td>\n",
       "      <td>1</td>\n",
       "    </tr>\n",
       "    <tr>\n",
       "      <th>3</th>\n",
       "      <td>4</td>\n",
       "      <td>Therefore, the clinical benefit in 2nd line tr...</td>\n",
       "      <td>1</td>\n",
       "      <td>0</td>\n",
       "      <td>0</td>\n",
       "    </tr>\n",
       "    <tr>\n",
       "      <th>4</th>\n",
       "      <td>5</td>\n",
       "      <td>The data provided in 1st line, although prelim...</td>\n",
       "      <td>1</td>\n",
       "      <td>0</td>\n",
       "      <td>0</td>\n",
       "    </tr>\n",
       "  </tbody>\n",
       "</table>\n",
       "</div>"
      ],
      "text/plain": [
       "   ID                                           Sentence  Positive  Negative  \\\n",
       "0   1  The results in 2nd line treatment show an ORR ...         1         0   \n",
       "1   2  The long duration of response and high durable...         1         0   \n",
       "2   3  The median OS time in the updated results exce...         0         0   \n",
       "3   4  Therefore, the clinical benefit in 2nd line tr...         1         0   \n",
       "4   5  The data provided in 1st line, although prelim...         1         0   \n",
       "\n",
       "   Neutral  \n",
       "0        0  \n",
       "1        0  \n",
       "2        1  \n",
       "3        0  \n",
       "4        0  "
      ]
     },
     "execution_count": 4,
     "metadata": {},
     "output_type": "execute_result"
    }
   ],
   "source": [
    "df.head()"
   ]
  },
  {
   "cell_type": "code",
   "execution_count": 5,
   "metadata": {},
   "outputs": [
    {
     "data": {
      "text/html": [
       "<div>\n",
       "<style scoped>\n",
       "    .dataframe tbody tr th:only-of-type {\n",
       "        vertical-align: middle;\n",
       "    }\n",
       "\n",
       "    .dataframe tbody tr th {\n",
       "        vertical-align: top;\n",
       "    }\n",
       "\n",
       "    .dataframe thead th {\n",
       "        text-align: right;\n",
       "    }\n",
       "</style>\n",
       "<table border=\"1\" class=\"dataframe\">\n",
       "  <thead>\n",
       "    <tr style=\"text-align: right;\">\n",
       "      <th></th>\n",
       "      <th>ID</th>\n",
       "      <th>Positive</th>\n",
       "      <th>Negative</th>\n",
       "      <th>Neutral</th>\n",
       "    </tr>\n",
       "  </thead>\n",
       "  <tbody>\n",
       "    <tr>\n",
       "      <th>count</th>\n",
       "      <td>236.000000</td>\n",
       "      <td>236.000000</td>\n",
       "      <td>236.000000</td>\n",
       "      <td>236.000000</td>\n",
       "    </tr>\n",
       "    <tr>\n",
       "      <th>mean</th>\n",
       "      <td>131.838983</td>\n",
       "      <td>0.593220</td>\n",
       "      <td>0.135593</td>\n",
       "      <td>0.271186</td>\n",
       "    </tr>\n",
       "    <tr>\n",
       "      <th>std</th>\n",
       "      <td>81.046556</td>\n",
       "      <td>0.492277</td>\n",
       "      <td>0.343084</td>\n",
       "      <td>0.445517</td>\n",
       "    </tr>\n",
       "    <tr>\n",
       "      <th>min</th>\n",
       "      <td>1.000000</td>\n",
       "      <td>0.000000</td>\n",
       "      <td>0.000000</td>\n",
       "      <td>0.000000</td>\n",
       "    </tr>\n",
       "    <tr>\n",
       "      <th>25%</th>\n",
       "      <td>60.750000</td>\n",
       "      <td>0.000000</td>\n",
       "      <td>0.000000</td>\n",
       "      <td>0.000000</td>\n",
       "    </tr>\n",
       "    <tr>\n",
       "      <th>50%</th>\n",
       "      <td>119.500000</td>\n",
       "      <td>1.000000</td>\n",
       "      <td>0.000000</td>\n",
       "      <td>0.000000</td>\n",
       "    </tr>\n",
       "    <tr>\n",
       "      <th>75%</th>\n",
       "      <td>207.250000</td>\n",
       "      <td>1.000000</td>\n",
       "      <td>0.000000</td>\n",
       "      <td>1.000000</td>\n",
       "    </tr>\n",
       "    <tr>\n",
       "      <th>max</th>\n",
       "      <td>266.000000</td>\n",
       "      <td>1.000000</td>\n",
       "      <td>1.000000</td>\n",
       "      <td>1.000000</td>\n",
       "    </tr>\n",
       "  </tbody>\n",
       "</table>\n",
       "</div>"
      ],
      "text/plain": [
       "               ID    Positive    Negative     Neutral\n",
       "count  236.000000  236.000000  236.000000  236.000000\n",
       "mean   131.838983    0.593220    0.135593    0.271186\n",
       "std     81.046556    0.492277    0.343084    0.445517\n",
       "min      1.000000    0.000000    0.000000    0.000000\n",
       "25%     60.750000    0.000000    0.000000    0.000000\n",
       "50%    119.500000    1.000000    0.000000    0.000000\n",
       "75%    207.250000    1.000000    0.000000    1.000000\n",
       "max    266.000000    1.000000    1.000000    1.000000"
      ]
     },
     "execution_count": 5,
     "metadata": {},
     "output_type": "execute_result"
    }
   ],
   "source": [
    "df.describe()"
   ]
  },
  {
   "cell_type": "code",
   "execution_count": 7,
   "metadata": {},
   "outputs": [
    {
     "name": "stdout",
     "output_type": "stream",
     "text": [
      "Total number of rows: 236\n"
     ]
    }
   ],
   "source": [
    "print(\"Total number of rows:\", len(df.index))"
   ]
  },
  {
   "cell_type": "code",
   "execution_count": 8,
   "metadata": {},
   "outputs": [
    {
     "data": {
      "text/plain": [
       "Positive    140\n",
       "Negative     32\n",
       "Neutral      64\n",
       "dtype: int64"
      ]
     },
     "execution_count": 8,
     "metadata": {},
     "output_type": "execute_result"
    }
   ],
   "source": [
    "df[['Positive', 'Negative', 'Neutral']].sum(axis=0)"
   ]
  },
  {
   "cell_type": "code",
   "execution_count": 28,
   "metadata": {},
   "outputs": [
    {
     "data": {
      "text/plain": [
       "<matplotlib.axes._subplots.AxesSubplot at 0x1a260a29e8>"
      ]
     },
     "execution_count": 28,
     "metadata": {},
     "output_type": "execute_result"
    },
    {
     "data": {
      "image/png": "[encoded data removed]",
      "text/plain": [
       "<Figure size 432x288 with 1 Axes>"
      ]
     },
     "metadata": {},
     "output_type": "display_data"
    }
   ],
   "source": [
    "df[['Positive', 'Negative', 'Neutral']].sum(axis=0).plot.pie()"
   ]
  },
  {
   "cell_type": "markdown",
   "metadata": {},
   "source": [
    "Unbalanced data, especially small number of negative values.<br>\n",
    "In general small amount of data, I guess not enough for Deep Neural Networks.\n",
    "Classifier with small number of features might work."
   ]
  },
  {
   "cell_type": "code",
   "execution_count": 9,
   "metadata": {},
   "outputs": [
    {
     "data": {
      "text/plain": [
       "1"
      ]
     },
     "execution_count": 9,
     "metadata": {},
     "output_type": "execute_result"
    }
   ],
   "source": [
    "df[['Positive', 'Negative', 'Neutral']].sum(axis=1).max()"
   ]
  },
  {
   "cell_type": "markdown",
   "metadata": {},
   "source": [
    "No sentence has more than one category."
   ]
  },
  {
   "cell_type": "code",
   "execution_count": 10,
   "metadata": {},
   "outputs": [
    {
     "name": "stdout",
     "output_type": "stream",
     "text": [
      "Positive sentences:\n",
      "0. The results in 2nd line treatment show an ORR of 33% with some patients having durable responses resulting in an apparent PFS plateau\n",
      "1. The long duration of response and high durable response rate observed after 6-month minimum follow-up is further substantiated by the 12-months minimum follow-up analysis\n",
      "2. Therefore, the clinical benefit in 2nd line treatment is considered clinically meaningful and the magnitude of the effect is significant compared to chemotherapy\n",
      "3. The data provided in 1st line, although preliminary, showed activity of avelumab in mMCC in terms of response rate, and evidence of a similar durable response from the small subset of patients with a longer follow-up compared to 2nd line treatment\n",
      "4. Taking into account the intrinsic limitation of single arm studies, the rarity of the disease and the challenges to compare the results with data from historical controls and in the literature, the currently available data are deemed to support the efficacy of avelumab in both pre-treated and chemotherapy-naïve patients\n",
      "5. The safety data collected at an earlier data cut remains consistent with longer follow up \n",
      "6. No major concerns have been identified in the updated analysis\n",
      "7. The safety of avelumab in the proposed indication appears to be acceptable and manageable with the recommendations as proposed in the SmPC and the RMP\n",
      "8. Biosimilarity of CT-P10 and MabThera is considered demonstrated based on the efficacy data.\n",
      "9. In the pivotal RA trial, efficacy results in terms of DAS28 and ACR were shown to be comparable between CT-P10 and MabThera.\n",
      "10. In addition, PK data discussed support the extrapolation to the autoimmune indications MPA/GPA.\n",
      "11. The objectives of study CT-P10 3.3 were to demonstrate similarity in pharmacokinetics and non-inferiority in efficacy of CT-P10 to Rituxan as primary endpoints when coadministered with CVP in patients with advanced FL; these objectives have been met and furthermore, extrapolation in the context of NHL and CLL indications is acceptable.\n",
      "12. Therefore, the available safety data are considered supportive of biosimilarity between CT-P10 and MabThera.\n",
      "13. The frequencies and nature of the adverse events were in line with those reported for the innovator MabThera/Rituxan in the RA and NLH study populations.\n",
      "14. A summary of the literature with regard to clinical data of Daptomycin Hospira and justifications that the product is essentially similar in properties with regards to safety and efficacy of the reference product was provided and was accepted by the CHMP.\n",
      "15. This is in accordance with the relevant guideline and additional clinical studies were not considered necessary.\n",
      "16. The superiority to placebo was demonstrated for both dupilumab doses as monotherapy or in combination with TCS in AD patients who are insufficiently controlled with topical therapies alone.\n",
      "17. Based on the presented and available data, dupilumab has been found to have an acceptable safety profile.\n",
      "18. Furthermore according to the meta-analysis of the four pivotal studies performed in patients meeting the ESSIC classification 2X to 3C the pooled response rate under PPS treatment was 2-fold higher than the pooled response rate under placebo (“GRA” primary endpoint and also pain and urgency)and efficacy of PPS was considered sufficiently demonstrated in this population\n",
      "19. Overall, the safety profile of PPS is not considered of concern.\n",
      "20. This risk is adequately addressed in various sections of the SmPC and as important identified risk in the RMP.\n",
      "21. Based on the presented bioequivalence study the test formulation Emtricitabine/Tenofovir disoproxil Krka d.d. 200mg/245mg film coated tablets of Krka d.d. Slovenia is considered bioequivalent with the reference Truvada 200mg/245mg film coated tablets manufactured by Gilead Sciences Intl. Ltd. Ireland MA holder: Gilead Sciences UK.\n",
      "22. The application contains an adequate review of published clinical data and the bioequivalence has been shown between Granpidam and Viagra® 100 mg film-coated tablets.\n",
      "23. A biowaiver for the 20 mg strength is considered acceptable.\n",
      "24. Based on the presented bioequivalence study Granpidam is considered bioequivalent with Viagra (reference product used).\n",
      "25. The results of study 084-09 with 100mg formulation can be extrapolated to other strengths 20mg, according to conditions in the Guidelines.\n",
      "26. The results presented on efficacy support the biosimilarity claim between the test product SB5 and the reference product EU Humira.\n",
      "27. The number of subjects is sufficient for comparing the safety profile of the biosimilar candidate SB5 and reference medicinal product EU-Humira and studying the safety of a biosimilar product for up to one year.\n",
      "28. Broadly, the number, severity and type of TEAEs, SAEs, AEs of special interest, treatment discontinuations due to AEs, laboratory findings were comparable between SB5 and Humira and mirroring the safety profile as described in the SmPC of Humira.\n",
      "29. The frequency of related AEs, severity of AEs and AESIs remained similar for the group who transitioned from Humira to SB5 at week 24.\n",
      "30. The submitted additional analyses further support the comparability of the safety profile of SB5 and Humira.\n",
      "31. With regard to immunogenicity, the incidence and titre distribution of ADAs were compared and seemed similar for SB5 and Humira, with about half of all subjects developing neutralising antibodies in each treatment group.\n",
      "32. No worsening of the immunogenicity profile was observed after transitioning from Humira to SB5.\n",
      "33. In light of established biosimilarity on quality level, the remaining uncertainty that the safety profile of Inhixa and Clexane differs significantly was considered low enough to conclude on similarity.\n",
      "34. This data is considered supportive in establishing biosimilarity.\n",
      "35. Both studies, demonstrated that SAR342434 is non-inferior to Humalog in improvement of glycaemic control by Week 26 and therefore provided strong supportive evidence about the comparability/ biosimilarity of the two products.\n",
      "36. The 12-month results of study EFC12619 further supported similar clinical efficacy of SAR342434 and Humalog in T1DM subjects.\n",
      "37. The size of the safety database and duration of exposure is considered appropriate for the evaluation of the general safety profile of Insulin lispro Sanofi.\n",
      "38. Safety and tolerability of Insulin lispro Sanofi and Humalog seem to be comparable and thus support biosimilarity of these two products.\n",
      "39. Treatment-emergent AIA did not affect efficacy or safety endpoints in either T1DM or T2DM subjects.\n",
      "40. In conclusion, the safety profile of Insulin lispro Sanofi is acceptable and not different to that of Humalog.\n",
      "41. The bioequivalence of the applied product Ivabradine, film-coated tablets, 7.5 mg with the respective strength of the reference product Procoralan film-coated tablets of Les Laboratoires Servier has been demonstrated in one bioequivalence study (study 14-VIN-785).\n",
      "42. The study has been performed under fed conditions, which reflects recommendations in the brand leader’s SPC for the administration of the product.\n",
      "43. The sample size was calculated to provide adequate power of bioequivalence analysis.\n",
      "44. The statistical methodology used in the studies is justified and consistent with the principles of guidelines on the investigation of bioequivalence.\n",
      "45. In accordance with the study protocol the study meets the bioequivalence criteria as 90% confidence intervals for the ln-transformed pharmacokinetic parameters Cmax and AUC0-t for ivabradine is within the acceptance range of 80.00% - 125.00% with power (1-β) 99.45 and 99.99 respectively.\n",
      "46. The bioequivalence study appears to have been well conducted.\n",
      "47. An acceptable justification for a biowaiver of Ivabradine Hydrochloride, 5 mg, film-coated tablets has been provided.\n",
      "48. to the EMA Guideline on the Investigation of Bioequivalence (CPMP/EWP/QWP/1401/98 Rev. 1/ Corr **), Ivabradine 5 mg film-coated tablets satisfy the conditions for waiver of bioequivalence studies conducted on the applied product 7.5 mg strength.\n",
      "49. The efficacy data of the two phase 3 placebo-controlled studies in patients who received background DMARDs showed that both dose regimens of sarilumab (150 mg q2w, 200 mg q2w) were superior to placebo regarding improvement of signs and symptoms (ACR20 responses), of physical function (change from baseline in HAQ-DI) and of progression in structural damage (mTSS, only study EFC11072).\n",
      "50. The active-comparator study demonstrated the efficacy of sarilumab as monotherapy and relative to the biologic DMARD adalimumab.\n",
      "51. Overall, data of the submitted studies are considered overall adequate to identify the patient population of the indication.\n",
      "52. No new safety concerns were identified during the development program in the clinical trial population.\n",
      "53. The efficacy of the combination of lenvatinib with everolimus has been shown.\n",
      "54. Lenvatinib/everolimus combination therapy demonstrated improved PFS compared to everolimus monotherapy with a median PFS of 14.6 months vs. 5.5 months.\n",
      "55. Additional sensitivity analyses performed confirmed the robustness of observed PFS.\n",
      "56. Furthermore, encouraging signs of a prolonged OS were seen in patients treated with the combination of lenvatinib and everolimus combination therapy as per the primary analysis as well as the two updated analyses that span a more than 1-year period.\n",
      "57. A similar trend towards prolonged OS was also observed in favour of lenvatinib monotherapy but less obvious than with combination therapy.\n",
      "58. The overall safety profile of lenvatinib-everolimus combination is consistent with known safety profiles of its components observed either in other indications (for lenvatinib) or in the intended indication (for everolimus).\n",
      "59. The reported toxicity was in general predictable and manageable.\n",
      "60. No new safety signal has been reported.\n",
      "61. However, most of these adverse events were well managed by dose reduction, interruption or by additional medical treatment.\n",
      "62. Based on the available data, the CHMP considered that all criteria for a BCS-based biowaiver were met. \n",
      "63. Therefore the absence of a bioequivalence study was considered justified and the CHMP concluded that no clinical data were needed to support the application for Lacosamide Accord 50 mg, 100 mg, 150 mg and 200 mg film-coated tablets as a generic medicinal product to Vimpat.\n",
      "64. Overall, the available clinical efficacy data were considered adequate to support the use of cladribine in the treatment of adult patients with highly active RMS as defined by clinical or imaging features.\n",
      "65. Results from the pivotal study CLARITY showed a clinically relevant effect of cladribine in patients with RMS in terms of reduction of relapse rate as well as MRI lesions and delay in disability progression.\n",
      "66. Furthermore, data in SPMS patients with superimposed relapses, although very limited, supported a beneficial effect of cladribine on the relapse rate in this population.\n",
      "67. The data furthermore support the use of a cumulative dose of 3.5 mg/kg to be administered in 2 courses each for 2 years.\n",
      "68. Maintenance of the treatment effect in year 3 and 4 was supported by long-term data from CLARITY EXT.\n",
      "69. Overall, the CHMP was of the view that the available clinical safety data were adequate for the purpose of assessing the safety of cladribine for the use as treatment of adult patients with highly active RMS.\n",
      "70. Overall, the risk minimisation measures including the safety information in the product information as well as the prescriber and patient guide were considered adequate to address the risks with cladribine treatment, while further data are gathered in the post-marketing setting\n",
      "71. In the HCV GT1-infected population (the most widely represented in the EU) the observed results -with 99% SVR12 achieved with a convenient 8 weeks treatment duration in non-cirrhotic TN or TE-PRS patients and 97% in cirrhotic patients with a 12 weeks treatment duration- support the fact that this FDC will represent an optimization in the therapeutic armamentarium. \n",
      "72. CHMP thus acknowledged that the applicant’s proposal for a treatment recommendation could overall be followed in DAA treatment naïve patients, having in mind the possibility of bridging efficacy from GT1 based on comparable in vitro activity leading to favour a simplified regimen for a programmatic approach to HCV eradication (targeted by 2030 by WHO).\n",
      "73. The safety profile of Maviret (glecaprevir/pibrentasvir) is favourable with no major concern identified.\n",
      "74. This has been appropriately covered in the Maviret SmPC by the addition of a contra-indication with EE-containing medicines.\n",
      "75. The concerns raised during the procedure regarding the BE have been satisfactorily answered and the product is approvable from the clinical point of view.\n",
      "76. The CHMP considered this application acceptable from clinical point of view.\n",
      "77. A summary of the literature with regard to clinical data of Pemetrexed Hospira UK Limited and justifications that the different salt of the active substance does not differ significantly in properties with regards to safety and efficacy of the reference product was provided and was accepted by the CHMP. \n",
      "78. A single dose bioequivalence study was considered sufficient since the application concerns an immediate release formulation.\n",
      "79. Since Rolufta application is an informed consent of Incruse application, the clinical data in support of the Rolufta application are identical to the up-to-date clinical data of Incruse dossier, which have been assessed and authorised (including all post-marketing procedures).\n",
      "80. Overall, ABP 501 has in the RA study shown similarity to adalimumab in several analyses.\n",
      "81. The primary endpoint was met, and similarity at week 24 was indicated with low point estimates and narrow CI intervals both for ACR20 RR and Risk Difference.\n",
      "82. Also mean change in DAS28-CRP showed high similarity at all visits.\n",
      "83. However, these results are not seen for DAS28 which is favourable, or for ACR50 or ACR70, and as such it is concluded, that the difference seen at week 2 in ACR20 is likely to be a chance finding rather than a true difference.\n",
      "84. Also the psoriasis study met the primary endpoint with a point estimate of difference of 2% with narrow CIs, indicating similarity.\n",
      "85. Overall, clinical similarity between ABP 501 and adalimumab has been demonstrated.\n",
      "86. The safety profile of ABP 501 and Humira is considered comparable.\n",
      "87. The majority of treated infants with infantile-onset SMA achieved improvement, with a great proportion reaching a clinically meaningful and continued improvements in motor milestones (e.g. independent sitting, standing and walking), muscle strength, and motor function that exceed those of the sham control-treated infants in Study CS3B and the natural history of the disease, where a progressive loss of motor function is observed\n",
      "88. Data from treated pre-symptomatic infants with genetically confirmed SMA show that they are achieving motor milestones and developing muscle strength and motor function with the nusinersen treatment that are more consistent with those of normal infants than symptomatic infants with SMA\n",
      "89. Subjects with later-onset SMA who received nusinersen achieved and maintained motor function across multiple measures and milestones such as the ability to walk that are completely inconsistent with natural history\n",
      "90. Data from the ongoing studies in infantile-onset SMA support that treatment with nusinersen has the potential to prolong overall and event-free survival\n",
      "91. They also support the need for early treatment with nusinersen, since shortly after the loading phase was complete, the rate of ventilation among nusinersen-treated subjects separated from that of the controls\n",
      "92. Taken together, these data demonstrate consistently that nusinersen has produced meaningful benefits across a broad range of SMA phenotypes\n",
      "93. The consistency among the various key clinically meaningful endpoints, each of which provide independent measures central to the pathology of SMA, support significant efficacy in both pre-symptomatic and symptomatic subjects and across infantile-onset and later-onset SMA\n",
      "94. Review of the available data demonstrated no safety concerns due to nusinersen exposure\n",
      "95. The majority of AEs and SAEs reported in subjects exposed to nusinersen were consistent with the nature and frequency of events typically occurring in the context of SMA\n",
      "96. In addition, the fatality rate in nusinersen-treated subjects with infantile-onset SMA was about half that of sham-controlled subjects\n",
      "97. nusinersen has demonstrated a favourable safety and efficacy pattern in the treatment of infantile-onset SMA from a randomized controlled clinical study, Study CS3B\n",
      "98. This was supported by favourable safety and efficacy data from the interim analysis of a randomized controlled clinical study, CS4 in later-onset subjects, open-label studies in pre-symptomatic subjects, and subjects with infantile-onset and later-onset SMA, where the attainment of motor milestones in subjects receiving treatment differed from that seen in the natural history of SMA\n",
      "99. Based on the totality of the data, it can be agreed that nusinersen has a positive benefit/risk profile for treating SMA\n",
      "100. The FRC has been investigated in a clinical programme of adequate design.\n",
      "101. Study EFC12404 provides relevant information on the contribution of the mono-components to the effect of the FRC.\n",
      "102. With the FRC, the decrease in HbA1c was achieved without increase in body weight, and without an increase in the reporting of hypoglycaemia compared to patients on monotherapy with insulin glargine.\n",
      "103. However, further analyses have shown that only a small proportion of patients (7% and 15%, study EFC12404 and EFC12405 respectively) had both reached the maximum dose and were in need of intensified treatment at week 30\n",
      "104. In addition, data from the lixisenatide file has been presented which shows maintenance of efficacy up to 76 weeks in combination with basal insulin.\n",
      "105. Thus it appears plausible that the effect can be maintained for a majority of patients at the doses\n",
      "106. No new or unexpected adverse reactions were noted with the fixed combination of lixisenatide/insulin glargine (FRC) compared to the mono-components.\n",
      "107. The incidences of documented hypoglycaemic episode were comparable between the FRC and insulin glargine group.\n",
      "108. Immunological reactions such as allergic reactions and injections site reactions were few and equally distributed between the different treatment groups.\n",
      "109. A lower frequency of patients developed lixisenatide antibodies (ADA) in the FRC group (36%) compared to the lixisenatide group (48%).\n",
      "110. The RMP adequately reflects the safety concerns listed for the two monocomponents. The\n",
      "111. Overall, the fixed combination of lixisenatide/insulin glargine demonstrates a comparable safety profile as the two mono-components.\n",
      "112. There are no major objections based on the efficacy data.\n",
      "113. Bioequivalence of the FDC to the separate components has been established.\n",
      "114. Preliminary results from the ongoing phase 3 studies are reassuring in this respect.\n",
      "115. The safety profile of the D/C/F/TAF FDC is largely based on the well-established safety profile of the individual components.\n",
      "116. The safety profile of D/C/F/TAF FDC is supported by the results from the phase 2 study and as well by the preliminary results from the ongoing phase 3 studies.\n",
      "117. The observed safety profile is in line with expectations and did not raise additional concerns.\n",
      "118. Since Tadalafil Lilly application is an informed consent of Cialis application, the clinical data in support of the Tadalafil Lilly application are identical to the up-to-date clinical data of Cialis dossier, which have been assessed and authorised (including all post-marketing procedures).\n",
      "119. A summary of the literature with regard to clinical data of tadalafil and two bioequivalence studies were provided to demonstrate that the active substance does not differ significantly in properties with regards to safety and efficacy of the reference product and was accepted by the CHMP.\n",
      "120. Study TRIPLE 5, triple therapy with BDP/FF/GB (CHF 5993) had a statistically significant and clinically relevant superior effect on pre-dose and 2-h post-dose FEV1 at week 26 than BDP/FF (Foster).\n",
      "121. Nevertheless, the responder analysis indicates a benefit for CHF 5993 compared with Foster on TDI symptoms for a greater proportion of patients.\n",
      "122. Also, the observed 23% reduction in the exacerbation rate is above the minimum clinically important difference.\n",
      "123. Study TRIPLE 6, CHF 5993 had a statistically significant superior effect on moderate and severe COPD exacerbation rate over 52 weeks than Tiotropium.\n",
      "124. The observed 20% reduction in the exacerbation rate is above the minimum clinically important difference.\n",
      "125. Superiority of CHF 5993 pMDI over Tiotropium and non-inferiority relative to Foster pMDI + Tiotropium in terms pre-dose morning FEV1 at Week 52 was also demonstrated.\n",
      "126. The superior clinical efficacy of CHF 5993 pMDI compared to Tiotropium was further supported by consistent findings on other relevant parameters, including SGRQ and use of rescue medication.\n",
      "127. Overall, CHF 5993 pMDI has shown benefits in reduction in exacerbation frequency and in improvement in lung function in two large Phase III studies.\n",
      "128. From the safety data presented there are no particular safety signals that suggest an additive effect when FF and GB are administered together.\n",
      "129. The clinical database is acceptable and considered sufficient.\n",
      "130. The clinical safety sections of the SmPC contain appropriate information for each substance and reflect the safety information on the FDC.\n",
      "131. In this informed consent application, there are no new issues related to the clinical data. \n",
      "132. All the clinical data have been assessed for Nuwiq application and adequately reflected in the Product Information.\n",
      "133. SOF/VEL/VOX for 12 weeks has shown excellent efficacy in patients that have previously failed a regimen containing an NS5A inhibitor.\n",
      "134. A similar 12 week course appears somewhat better than SOF/VEL in patients with previous failure on a DAA-containing regimen without an NS5A inhibitor.\n",
      "135. An 8 week course of SOF/VEL/VOX was similarly efficacious as 12 weeks of SOF/VEL in a difficult to cure DAA-naïve cirrhotic GT3 cohort.\n",
      "136. SOF/VEL/VOX has been studied in a sufficient number of patients, including substantial numbers of patients with compensated cirrhosis.\n",
      "137. Compared to SOF/VEL and placebo, there were similar rates of AEs overall, with the only notable difference being increased rates of mild (Grade 1) nausea and diarrhoea.\n",
      "138. No treatment-related SAE was reported and only one subject (0.1%) in the Phase 3 trials discontinued SOF/VEL/VOX due to reported advents, assessed unrelated to study drug.\n",
      "139. The safety profile of SOF/VEL/VOX for 8 or 12 weeks in patients with compensated liver disease due to HCV infection appears favourable.\n"
     ]
    }
   ],
   "source": [
    "print(\"Positive sentences:\")\n",
    "for i,s in enumerate(df[df.Positive==1].Sentence):\n",
    "    print(str(i)+'.', s)"
   ]
  },
  {
   "cell_type": "code",
   "execution_count": 11,
   "metadata": {},
   "outputs": [
    {
     "name": "stdout",
     "output_type": "stream",
     "text": [
      "Negative sentences:\n",
      "0. This means that further evidence on this medicinal product is awaited\n",
      "1. The CHMP considers the following measures necessary to address the missing efficacy data for 1st line treatment in the context of a conditional MA:\n",
      "2. • PASS: German real-world cohort study should be submitted as additional PhV activity to address the missing information of safety and efficacy in immune compromised patients\n",
      "3. The CHMP considers the following measures necessary to address issues related to safety: \n",
      "4. Although dataset of AFL patients has been updated, data are still considered very limited to reach firm conclusion about safety proflie.\n",
      "5. Additional safety data from maintenance study period CT-P10 3.3 and follow-up period should be provided (see RMP).\n",
      "6. As questions still remain on the long term safety, ongoing open-label extension studies are being undertaken that will provide further data.\n",
      "7. Only 3 pivotal randomized double-blind multicentre placebo controlled studies (Parsons and Mulholland 1987, Mulholland et al 1990 and Parsons et al 1993) among the 6 pivotal studies met their primary endpoint “GRA” and some secondary endpoints such as pain.\n",
      "8. Due to the heparin-like structure of PPS, a weak anticoagulant effect was observed with PPS and patients with risk factors for increased bleeding (undergoing invasive procedures, having underlying coagulopathy or taking anticoagulants) should be carefully evaluated for haemorrhage during the treatment.\n",
      "9. More detailed data on injection site reactions, hypersensitivity and anaphylactic reactions were requested in order to allow a thorough assessment of this issue both in subjects with and without ADAs.\n",
      "10. With regard to immunogenicity, the differences in the AIA response between SARS342434 and Humalog were small and inconsistent.\n",
      "11. However, precaution is warranted given a small size of safety database, a limited information on long-term toxicity, and a limited data on PK/PD interactions together with indication on potential for worsening toxicity for VEGFRi -mTOR inhibitor combinations in general.\n",
      "12. Although toxicity appears to be manageable with the intended combination, an onset of more frequent or severe toxicity may occur in a larger database and/or at longer term.\n",
      "13. Poor tolerability of the combination is manifest with high rates of discontinuations due to AEs and dose modifications.\n",
      "14. Therefore, further studies need to be conducted in relevant clinical setting in order to provide comprehensive data and to improve tolerability profile of the combination in view of a limited safety database for the combination treatment at intended doses/schedule, related uncertainties and poor tolerability of the combination (high rate of treatment discontinuation and dose modifications).\n",
      "15. The CHMP considers the following measures necessary to address issues related to safety\n",
      "16. Study 307 is requested to further characterise the safety and tolerability profile of the combination therapy and further contribute to knowledge on PK and PK/PD of lenvatinib and everolimus and their PK and PD interactions.\n",
      "17. Studies requested for Lenvima will also provide relevant safety information for this application\n",
      "18. Based on these data and since relapses in both SPMS and RRMS patients have the same underlying inflammatory pathophysiology, patients with RMS (instead of RRMS) were considered a more suitable target population.\n",
      "19. Nevertheless, CHMP noted that since the clinical development has been built mainly to promote the use of this dual therapy in first line treatment rather than in retreatment, the limited sample sized MAGELLAN-1 study (without GT3 patients) in DAA TE leaves many uncertainties for the use of this dual therapy in patients failing DAA.\n",
      "20. Additional safety data from Maintenance Study Period CT-P10 3.3.and Follow-up Period should be provided (see RMP).\n",
      "21. Additional safety data from Maintenance Study Period CT-P10 3.3. and Follow-up Period should be provided (see RMP).\n",
      "22. ACR20 results per visit showed significant differences which may be interpreted as indicating a faster onset of effect for ABP 501, which could question similarity.\n",
      "23. The current studies do not provide evidence that the treatment effects persist with indefinite length of treatment, neither in infantile nor in later onset SMA\n",
      "24. The CHMP considers the following measures as key to the B/R ratio of the product and necessary to address issues related to efficacy:\n",
      "25. PAES: In order to evaluate the long term efficacy and safety of Nusinersen in symptomatic patients with spinal muscular atrophy, Phase 3, open-label extension study (SHINE, CS11)\n",
      "26. the MAH should conduct and submit the results of the \n",
      "27. • PAES: In order to evaluate the long term efficacy and safety of Nusinersen in pre-symptomatic patients with spinal muscular atrophy, the MAH should conduct and submit the results of the Phase 2, open-label study (NURTURE (SM201))\n",
      "28. The FRC is provided in two different pens with two different ratios between insulin glargine and lixisenatide which may increase the risk for medication errors.\n",
      "29. There is a lack of long-term data beyond 30 weeks with the FRC. \n",
      "30. Further, an 8 week course of SOF/VEL/VOX showed an SVR rate of 95% in a DAA-naïve population; however, this did not meet predefined non-inferiority with SOF/VEL for 12 weeks.\n",
      "31. There was no general indication of VOX-associated transaminitis, as has been seen with other NS3/4A inhibitors; however, two cases associated with concomitant ethinyl estradiol among a total of 29 objects exposed, which makes co-administration quite questionable.\n"
     ]
    }
   ],
   "source": [
    "print(\"Negative sentences:\")\n",
    "for i,s in enumerate(df[df.Negative==1].Sentence):\n",
    "    print(str(i)+'.', s)"
   ]
  },
  {
   "cell_type": "markdown",
   "metadata": {},
   "source": [
    "# Key questions"
   ]
  },
  {
   "cell_type": "markdown",
   "metadata": {},
   "source": [
    "<p>\n",
    "Key Task:<br>\n",
    "feasability of an automated sentiment analysis tool for EPARs, which\n",
    "Identifies optimal and suboptimal clinical trial properties.\n",
    "    So: <h3> Can I build a automated sentiment analysis tool? </h3>\n",
    "</p>\n",
    "<p>\n",
    "Mentioned questions:\n",
    "    <ul>\n",
    "    <li> Is the dataset balanced? No </li>\n",
    "    <li> Is the amount of data sufficient for allowing a hold-out dataset?\n",
    "        Probalby no, only 29 points in train (in average). But k-fold cross-validation should be used. </li>\n",
    "        <li>\n",
    "            Do you have enough data to consider deep neural architectures or might good feature engineering with more shallow models suffice?\n",
    "            Probably not, check numbers.\n",
    "            </li>\n",
    "        <li> During the data collection process, for some sentences multiple experts disagreed on the sentiment of a given sentence, how could you capture such an ambiguity in your model and potentially notify users about such unclear instances?\n",
    "        Give chances, not only categories.\n",
    "            Maybe, train more than one model. And compare results in the end.\n",
    "        </li>\n",
    "        <li>\n",
    "        How does your model come to a specific conclusion, what about model interpretability?\n",
    "        </li>\n",
    "        <li>\n",
    "        Think beyond the pure sentiment analysis.\n",
    "            We can extract sentences and their meaning using dictionaries.\n",
    "            One method is \"Vader\" in nltk.[3]\n",
    "        </li>\n",
    "</p>\n",
    "<p>\n",
    "Additional Questions: <br>\n",
    "    Remove stop words? Only the ones without sentiment, like \"and\", \"to\", \"a\" \n",
    "two or three categories? <br>\n",
    "Machine learning or knowledge-based? Very specific, so knowledge based might not work.<br>\n",
    "</p>\n",
    "<p>\n",
    "    Notes:<br>\n",
    "    Humans are only 80% correct.[2] (Mechanical turk)<br>\n",
    "    Sentiment is only a hint, points in the right direction. But needs humans.<br>\n",
    "    Use different models for different questions.\n",
    "    </p>\n",
    "<p>\n",
    "    Sources: <br>\n",
    "    [1] https://en.wikipedia.org/wiki/Sentiment_analysis <br>\n",
    "    [2] https://mashable.com/2010/04/19/sentiment-analysis/?europe=true <br>\n",
    "    [3] file:///Users/musshoff/Downloads/A_Benchmark_Comparison_of_State-of-the-Practice_Se.pdf\n",
    "    </p>"
   ]
  },
  {
   "cell_type": "markdown",
   "metadata": {},
   "source": [
    "# Add labels"
   ]
  },
  {
   "cell_type": "code",
   "execution_count": 12,
   "metadata": {},
   "outputs": [],
   "source": [
    "labeldict = {1 : 'Positive', 2: 'Negative', 4: 'Neutral'}\n",
    "df['Label'] = list(map(lambda x: labeldict[x],df.Positive + df.Negative*2 + df.Neutral*4))\n",
    "labeldict = {1 : 'Positive', 2: 'NotPositive'}\n",
    "df['PositiveLabel'] = list(map(lambda x: labeldict[x],df.Positive + (df.Negative + df.Neutral)*2))\n",
    "labeldict = {1 : 'Negative', 2: 'NotNegative'}\n",
    "df['NegativeLabel'] = list(map(lambda x: labeldict[x],df.Negative + (df.Positive + df.Neutral)*2))"
   ]
  },
  {
   "cell_type": "code",
   "execution_count": 13,
   "metadata": {},
   "outputs": [
    {
     "data": {
      "text/html": [
       "<div>\n",
       "<style scoped>\n",
       "    .dataframe tbody tr th:only-of-type {\n",
       "        vertical-align: middle;\n",
       "    }\n",
       "\n",
       "    .dataframe tbody tr th {\n",
       "        vertical-align: top;\n",
       "    }\n",
       "\n",
       "    .dataframe thead th {\n",
       "        text-align: right;\n",
       "    }\n",
       "</style>\n",
       "<table border=\"1\" class=\"dataframe\">\n",
       "  <thead>\n",
       "    <tr style=\"text-align: right;\">\n",
       "      <th></th>\n",
       "      <th>ID</th>\n",
       "      <th>Sentence</th>\n",
       "      <th>Positive</th>\n",
       "      <th>Negative</th>\n",
       "      <th>Neutral</th>\n",
       "      <th>Label</th>\n",
       "      <th>PositiveLabel</th>\n",
       "      <th>NegativeLabel</th>\n",
       "    </tr>\n",
       "  </thead>\n",
       "  <tbody>\n",
       "    <tr>\n",
       "      <th>0</th>\n",
       "      <td>1</td>\n",
       "      <td>The results in 2nd line treatment show an ORR ...</td>\n",
       "      <td>1</td>\n",
       "      <td>0</td>\n",
       "      <td>0</td>\n",
       "      <td>Positive</td>\n",
       "      <td>Positive</td>\n",
       "      <td>NotNegative</td>\n",
       "    </tr>\n",
       "    <tr>\n",
       "      <th>1</th>\n",
       "      <td>2</td>\n",
       "      <td>The long duration of response and high durable...</td>\n",
       "      <td>1</td>\n",
       "      <td>0</td>\n",
       "      <td>0</td>\n",
       "      <td>Positive</td>\n",
       "      <td>Positive</td>\n",
       "      <td>NotNegative</td>\n",
       "    </tr>\n",
       "    <tr>\n",
       "      <th>2</th>\n",
       "      <td>3</td>\n",
       "      <td>The median OS time in the updated results exce...</td>\n",
       "      <td>0</td>\n",
       "      <td>0</td>\n",
       "      <td>1</td>\n",
       "      <td>Neutral</td>\n",
       "      <td>NotPositive</td>\n",
       "      <td>NotNegative</td>\n",
       "    </tr>\n",
       "    <tr>\n",
       "      <th>3</th>\n",
       "      <td>4</td>\n",
       "      <td>Therefore, the clinical benefit in 2nd line tr...</td>\n",
       "      <td>1</td>\n",
       "      <td>0</td>\n",
       "      <td>0</td>\n",
       "      <td>Positive</td>\n",
       "      <td>Positive</td>\n",
       "      <td>NotNegative</td>\n",
       "    </tr>\n",
       "    <tr>\n",
       "      <th>4</th>\n",
       "      <td>5</td>\n",
       "      <td>The data provided in 1st line, although prelim...</td>\n",
       "      <td>1</td>\n",
       "      <td>0</td>\n",
       "      <td>0</td>\n",
       "      <td>Positive</td>\n",
       "      <td>Positive</td>\n",
       "      <td>NotNegative</td>\n",
       "    </tr>\n",
       "  </tbody>\n",
       "</table>\n",
       "</div>"
      ],
      "text/plain": [
       "   ID                                           Sentence  Positive  Negative  \\\n",
       "0   1  The results in 2nd line treatment show an ORR ...         1         0   \n",
       "1   2  The long duration of response and high durable...         1         0   \n",
       "2   3  The median OS time in the updated results exce...         0         0   \n",
       "3   4  Therefore, the clinical benefit in 2nd line tr...         1         0   \n",
       "4   5  The data provided in 1st line, although prelim...         1         0   \n",
       "\n",
       "   Neutral     Label PositiveLabel NegativeLabel  \n",
       "0        0  Positive      Positive   NotNegative  \n",
       "1        0  Positive      Positive   NotNegative  \n",
       "2        1   Neutral   NotPositive   NotNegative  \n",
       "3        0  Positive      Positive   NotNegative  \n",
       "4        0  Positive      Positive   NotNegative  "
      ]
     },
     "execution_count": 13,
     "metadata": {},
     "output_type": "execute_result"
    }
   ],
   "source": [
    "df.head()"
   ]
  },
  {
   "cell_type": "code",
   "execution_count": 19,
   "metadata": {},
   "outputs": [],
   "source": [
    "df.index = np.arange(len(df.index))"
   ]
  },
  {
   "cell_type": "code",
   "execution_count": 20,
   "metadata": {},
   "outputs": [],
   "source": [
    "df = df.reindex(np.random.permutation(df.index))\n",
    "df.index = np.arange(len(df.index))"
   ]
  },
  {
   "cell_type": "code",
   "execution_count": 21,
   "metadata": {},
   "outputs": [],
   "source": [
    "df.to_pickle(\"training_df.pkl\")"
   ]
  },
  {
   "cell_type": "code",
   "execution_count": null,
   "metadata": {},
   "outputs": [],
   "source": []
  }
 ],
 "metadata": {
  "kernelspec": {
   "display_name": "Python 3",
   "language": "python",
   "name": "python3"
  },
  "language_info": {
   "codemirror_mode": {
    "name": "ipython",
    "version": 3
   },
   "file_extension": ".py",
   "mimetype": "text/x-python",
   "name": "python",
   "nbconvert_exporter": "python",
   "pygments_lexer": "ipython3",
   "version": "3.7.3"
  }
 },
 "nbformat": 4,
 "nbformat_minor": 2
}
